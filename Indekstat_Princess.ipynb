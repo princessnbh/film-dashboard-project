{
  "nbformat": 4,
  "nbformat_minor": 0,
  "metadata": {
    "colab": {
      "provenance": []
    },
    "kernelspec": {
      "name": "python3",
      "display_name": "Python 3"
    },
    "language_info": {
      "name": "python"
    }
  },
  "cells": [
    {
      "cell_type": "markdown",
      "source": [
        "# **Frinces Lija Duti Naibaho**"
      ],
      "metadata": {
        "id": "mooYEXzLUeJU"
      }
    },
    {
      "cell_type": "code",
      "execution_count": null,
      "metadata": {
        "id": "Du-3LF5FGwLC"
      },
      "outputs": [],
      "source": [
        "import pandas as pd\n",
        "\n",
        "# Baca file JSON\n",
        "df = pd.read_json(\"data_film.json\")\n",
        "\n",
        "# Simpan ke CSV\n",
        "df.to_csv(\"data.csv\", index=False)"
      ]
    },
    {
      "cell_type": "code",
      "source": [
        "#download csv ke colab\n",
        "from google.colab import files\n",
        "files.download(\"data.csv\")"
      ],
      "metadata": {
        "colab": {
          "base_uri": "https://localhost:8080/",
          "height": 17
        },
        "id": "cAbe-WgBIHei",
        "outputId": "adf78146-9bf9-47d7-d20b-ec8cc70bd90a"
      },
      "execution_count": null,
      "outputs": [
        {
          "output_type": "display_data",
          "data": {
            "text/plain": [
              "<IPython.core.display.Javascript object>"
            ],
            "application/javascript": [
              "\n",
              "    async function download(id, filename, size) {\n",
              "      if (!google.colab.kernel.accessAllowed) {\n",
              "        return;\n",
              "      }\n",
              "      const div = document.createElement('div');\n",
              "      const label = document.createElement('label');\n",
              "      label.textContent = `Downloading \"${filename}\": `;\n",
              "      div.appendChild(label);\n",
              "      const progress = document.createElement('progress');\n",
              "      progress.max = size;\n",
              "      div.appendChild(progress);\n",
              "      document.body.appendChild(div);\n",
              "\n",
              "      const buffers = [];\n",
              "      let downloaded = 0;\n",
              "\n",
              "      const channel = await google.colab.kernel.comms.open(id);\n",
              "      // Send a message to notify the kernel that we're ready.\n",
              "      channel.send({})\n",
              "\n",
              "      for await (const message of channel.messages) {\n",
              "        // Send a message to notify the kernel that we're ready.\n",
              "        channel.send({})\n",
              "        if (message.buffers) {\n",
              "          for (const buffer of message.buffers) {\n",
              "            buffers.push(buffer);\n",
              "            downloaded += buffer.byteLength;\n",
              "            progress.value = downloaded;\n",
              "          }\n",
              "        }\n",
              "      }\n",
              "      const blob = new Blob(buffers, {type: 'application/binary'});\n",
              "      const a = document.createElement('a');\n",
              "      a.href = window.URL.createObjectURL(blob);\n",
              "      a.download = filename;\n",
              "      div.appendChild(a);\n",
              "      a.click();\n",
              "      div.remove();\n",
              "    }\n",
              "  "
            ]
          },
          "metadata": {}
        },
        {
          "output_type": "display_data",
          "data": {
            "text/plain": [
              "<IPython.core.display.Javascript object>"
            ],
            "application/javascript": [
              "download(\"download_3846745f-312e-42be-8428-4eb9093d6e62\", \"data.csv\", 26232458)"
            ]
          },
          "metadata": {}
        }
      ]
    },
    {
      "cell_type": "code",
      "source": [
        "#Menampilkan Semua Kolom\n",
        "print(df.columns)"
      ],
      "metadata": {
        "colab": {
          "base_uri": "https://localhost:8080/"
        },
        "id": "Kj7GyifrKY2k",
        "outputId": "21cc2a5e-d56f-4831-edaf-7382b55c9d10"
      },
      "execution_count": null,
      "outputs": [
        {
          "output_type": "stream",
          "name": "stdout",
          "text": [
            "Index(['judul', 'tags', 'deskripsi', 'sutradara', 'bintang', 'negara',\n",
            "       'durasi', 'rating', 'rilis_date'],\n",
            "      dtype='object')\n"
          ]
        }
      ]
    },
    {
      "cell_type": "code",
      "source": [
        "#Menampilkan struktur dataset\n",
        "print(\"Info Dataset\")\n",
        "df.info()"
      ],
      "metadata": {
        "colab": {
          "base_uri": "https://localhost:8080/"
        },
        "id": "NaXdvypWKdLf",
        "outputId": "1a0be28b-698c-409b-c7ec-3076123d9909"
      },
      "execution_count": null,
      "outputs": [
        {
          "output_type": "stream",
          "name": "stdout",
          "text": [
            "Info Dataset\n",
            "<class 'pandas.core.frame.DataFrame'>\n",
            "RangeIndex: 56276 entries, 0 to 56275\n",
            "Data columns (total 9 columns):\n",
            " #   Column      Non-Null Count  Dtype  \n",
            "---  ------      --------------  -----  \n",
            " 0   judul       56276 non-null  object \n",
            " 1   tags        51458 non-null  object \n",
            " 2   deskripsi   49358 non-null  object \n",
            " 3   sutradara   51340 non-null  object \n",
            " 4   bintang     51277 non-null  object \n",
            " 5   negara      28202 non-null  object \n",
            " 6   durasi      56276 non-null  object \n",
            " 7   rating      56276 non-null  float64\n",
            " 8   rilis_date  56276 non-null  object \n",
            "dtypes: float64(1), object(8)\n",
            "memory usage: 3.9+ MB\n"
          ]
        }
      ]
    },
    {
      "cell_type": "code",
      "source": [
        "#menampilkan missing value\n",
        "print(df.isnull().sum())"
      ],
      "metadata": {
        "colab": {
          "base_uri": "https://localhost:8080/"
        },
        "id": "AaeeWQXEI_T6",
        "outputId": "e0ec3fd7-136f-43e3-8590-c5f3525e0e11"
      },
      "execution_count": null,
      "outputs": [
        {
          "output_type": "stream",
          "name": "stdout",
          "text": [
            "judul             0\n",
            "tags           4818\n",
            "deskripsi      6918\n",
            "sutradara      4936\n",
            "bintang        4999\n",
            "negara        28074\n",
            "durasi            0\n",
            "rating            0\n",
            "rilis_date        0\n",
            "dtype: int64\n"
          ]
        }
      ]
    },
    {
      "cell_type": "code",
      "source": [
        "#menangani missing value dengan cara isi dengan unknown\n",
        "df['tags'] = df['tags'].fillna(\"Unknown\")\n",
        "df['deskripsi'] = df['deskripsi'].fillna(\"Unknown\")\n",
        "df['sutradara'] = df['sutradara'].fillna(\"Unknown\")\n",
        "df['negara'] = df['negara'].fillna(\"Unknown\")\n",
        "df['bintang'] = df['bintang'].fillna(\"Unknown\")"
      ],
      "metadata": {
        "id": "6wOJT4GaLQ6A"
      },
      "execution_count": null,
      "outputs": []
    },
    {
      "cell_type": "code",
      "source": [
        "print(df.isnull().sum())"
      ],
      "metadata": {
        "colab": {
          "base_uri": "https://localhost:8080/"
        },
        "id": "a9ZEFY-9LUCN",
        "outputId": "6f447c75-f07c-43f3-ef3d-1d3e300772c6"
      },
      "execution_count": null,
      "outputs": [
        {
          "output_type": "stream",
          "name": "stdout",
          "text": [
            "judul         0\n",
            "tags          0\n",
            "deskripsi     0\n",
            "sutradara     0\n",
            "bintang       0\n",
            "negara        0\n",
            "durasi        0\n",
            "rating        0\n",
            "rilis_date    0\n",
            "dtype: int64\n"
          ]
        }
      ]
    },
    {
      "cell_type": "code",
      "source": [
        "#cek data cuplikat\n",
        "df.duplicated().sum()        # cek total duplikat\n",
        "df = df.drop_duplicates()    # hapus duplikat\n",
        "\n",
        "#harusnya tadi dijalaninnya satu2 biar keliatan ada apa engga duplikatnya,\n",
        "#tp td gua malah disatuin jd langsung kehapus (kalau emg ada)"
      ],
      "metadata": {
        "id": "pJdi7K5qM8jo"
      },
      "execution_count": null,
      "outputs": []
    },
    {
      "cell_type": "code",
      "source": [
        "#cek baris duplikat\n",
        "df.duplicated().sum()"
      ],
      "metadata": {
        "colab": {
          "base_uri": "https://localhost:8080/"
        },
        "id": "kWJ36eT6NF-z",
        "outputId": "0be165f5-789b-4aa7-c61b-8c1f7352510e"
      },
      "execution_count": null,
      "outputs": [
        {
          "output_type": "execute_result",
          "data": {
            "text/plain": [
              "np.int64(0)"
            ]
          },
          "metadata": {},
          "execution_count": 19
        }
      ]
    },
    {
      "cell_type": "code",
      "source": [
        "#Menampilkan Tipe Data Kolom\n",
        "df.dtypes"
      ],
      "metadata": {
        "colab": {
          "base_uri": "https://localhost:8080/",
          "height": 366
        },
        "id": "YhagqorUNlP0",
        "outputId": "7b5ea26a-1c1f-460e-d005-c1c99fe7810d"
      },
      "execution_count": null,
      "outputs": [
        {
          "output_type": "execute_result",
          "data": {
            "text/plain": [
              "judul          object\n",
              "tags           object\n",
              "deskripsi      object\n",
              "sutradara      object\n",
              "bintang        object\n",
              "negara         object\n",
              "durasi         object\n",
              "rating        float64\n",
              "rilis_date     object\n",
              "dtype: object"
            ],
            "text/html": [
              "<div>\n",
              "<style scoped>\n",
              "    .dataframe tbody tr th:only-of-type {\n",
              "        vertical-align: middle;\n",
              "    }\n",
              "\n",
              "    .dataframe tbody tr th {\n",
              "        vertical-align: top;\n",
              "    }\n",
              "\n",
              "    .dataframe thead th {\n",
              "        text-align: right;\n",
              "    }\n",
              "</style>\n",
              "<table border=\"1\" class=\"dataframe\">\n",
              "  <thead>\n",
              "    <tr style=\"text-align: right;\">\n",
              "      <th></th>\n",
              "      <th>0</th>\n",
              "    </tr>\n",
              "  </thead>\n",
              "  <tbody>\n",
              "    <tr>\n",
              "      <th>judul</th>\n",
              "      <td>object</td>\n",
              "    </tr>\n",
              "    <tr>\n",
              "      <th>tags</th>\n",
              "      <td>object</td>\n",
              "    </tr>\n",
              "    <tr>\n",
              "      <th>deskripsi</th>\n",
              "      <td>object</td>\n",
              "    </tr>\n",
              "    <tr>\n",
              "      <th>sutradara</th>\n",
              "      <td>object</td>\n",
              "    </tr>\n",
              "    <tr>\n",
              "      <th>bintang</th>\n",
              "      <td>object</td>\n",
              "    </tr>\n",
              "    <tr>\n",
              "      <th>negara</th>\n",
              "      <td>object</td>\n",
              "    </tr>\n",
              "    <tr>\n",
              "      <th>durasi</th>\n",
              "      <td>object</td>\n",
              "    </tr>\n",
              "    <tr>\n",
              "      <th>rating</th>\n",
              "      <td>float64</td>\n",
              "    </tr>\n",
              "    <tr>\n",
              "      <th>rilis_date</th>\n",
              "      <td>object</td>\n",
              "    </tr>\n",
              "  </tbody>\n",
              "</table>\n",
              "</div><br><label><b>dtype:</b> object</label>"
            ]
          },
          "metadata": {},
          "execution_count": 21
        }
      ]
    },
    {
      "cell_type": "code",
      "source": [
        "#Mengubah isi kolom durasi jadi tipe angka (numeric / int / float).\n",
        "df[\"durasi_num\"] = pd.to_numeric(df[\"durasi\"], errors=\"coerce\")\n",
        "print(df)"
      ],
      "metadata": {
        "colab": {
          "base_uri": "https://localhost:8080/"
        },
        "id": "bnU44iFeNz6U",
        "outputId": "c17e2117-1ed4-4e56-d9ec-809cfcd8c190"
      },
      "execution_count": null,
      "outputs": [
        {
          "output_type": "stream",
          "name": "stdout",
          "text": [
            "                                                   judul  \\\n",
            "0                                               Superman   \n",
            "1                                          A Gilded Game   \n",
            "2                                          Night Carnage   \n",
            "3                              Blood Brothers: Bara Naga   \n",
            "4                                  High Five aka Hi Five   \n",
            "...                                                  ...   \n",
            "56271                                           Dead Men   \n",
            "56272      'NoneType' object has no attribute 'get_text'   \n",
            "56273                                  Woman Walks Ahead   \n",
            "56274  HTTPSConnectionPool(host='tv6.lk21official.cc'...   \n",
            "56275  HTTPSConnectionPool(host='tv6.lk21official.cc'...   \n",
            "\n",
            "                                                    tags  \\\n",
            "0      Canada, Australia, United States, New Zealand,...   \n",
            "1                                          China, Action   \n",
            "2                 United States, Action, Romance, Horror   \n",
            "3                         Malaysia, Drama, Action, Crime   \n",
            "4                 South Korea, Comedy, Action, Adventure   \n",
            "...                                                  ...   \n",
            "56271              United States, Drama, Action, Western   \n",
            "56272                                            Unknown   \n",
            "56273  United States, Drama, Biography, History, Western   \n",
            "56274                                            Unknown   \n",
            "56275                                            Unknown   \n",
            "\n",
            "                                               deskripsi       sutradara  \\\n",
            "0      Dalam versi reimajinasi yang epik dari Superma...      James Gunn   \n",
            "1      Seorang mahasiswa keuangan berbakat mendapatka...      Herman Yau   \n",
            "2      Seorang blogger manusia serigala bertemu denga...      Sadie Katz   \n",
            "3      Sekelompok pria yang bekerja di sebuah organis...  Sharnaaz Ahmad   \n",
            "4      Lima orang biasa, yang mengembangkan kekuatan ...       Yoo Ah-In   \n",
            "...                                                  ...             ...   \n",
            "56271  Di bawah kekuasaan Taliban, Parvana (11 tahun)...   Royston Innes   \n",
            "56272                                            Unknown         Unknown   \n",
            "56273  Sebuah perjalanan emosional dua saudari yang m...   Susanna White   \n",
            "56274                                            Unknown         Unknown   \n",
            "56275                                            Unknown         Unknown   \n",
            "\n",
            "                                                 bintang  \\\n",
            "0      Nicholas Hoult, Alan Tudyk, Rachel Brosnahan, ...   \n",
            "1                        Andy Lau, Hao Ou, James Filbird   \n",
            "2                                          United States   \n",
            "3                                               Malaysia   \n",
            "4                                            South Korea   \n",
            "...                                                  ...   \n",
            "56271  Ric Maddox, Aaron Marciniak, Sasha Higgins, Ma...   \n",
            "56272                                            Unknown   \n",
            "56273  Jessica Chastain, Louisa Krause, Boots Souther...   \n",
            "56274                                            Unknown   \n",
            "56275                                            Unknown   \n",
            "\n",
            "                                              negara  durasi  rating  \\\n",
            "0      Canada, Australia, United States, New Zealand       0     2.3   \n",
            "1                                              China       0     1.7   \n",
            "2                                            Unknown       1     9.5   \n",
            "3                                            Unknown       0     9.6   \n",
            "4                                            Unknown       2     0.7   \n",
            "...                                              ...     ...     ...   \n",
            "56271                                  United States       1    10.0   \n",
            "56272                                        Unknown       0     9.3   \n",
            "56273                                  United States       0     6.9   \n",
            "56274                                        Unknown       0     7.0   \n",
            "56275                                        Unknown       0     8.2   \n",
            "\n",
            "       rilis_date  durasi_num  \n",
            "0      2006-02-26           0  \n",
            "1      2002-03-02           0  \n",
            "2      2009-11-12           1  \n",
            "3      2021-01-30           0  \n",
            "4      2011-04-04           2  \n",
            "...           ...         ...  \n",
            "56271  2008-08-28           1  \n",
            "56272  2008-03-01           0  \n",
            "56273  2019-08-03           0  \n",
            "56274  2008-12-18           0  \n",
            "56275  2019-12-04           0  \n",
            "\n",
            "[56276 rows x 10 columns]\n"
          ]
        }
      ]
    },
    {
      "cell_type": "code",
      "source": [
        "#Menampilkan Tipe Data Kolom\n",
        "df.dtypes"
      ],
      "metadata": {
        "colab": {
          "base_uri": "https://localhost:8080/",
          "height": 397
        },
        "id": "fMUseeauOOuY",
        "outputId": "ebbc577a-f67e-4579-c241-babf522dfdf3"
      },
      "execution_count": null,
      "outputs": [
        {
          "output_type": "execute_result",
          "data": {
            "text/plain": [
              "judul          object\n",
              "tags           object\n",
              "deskripsi      object\n",
              "sutradara      object\n",
              "bintang        object\n",
              "negara         object\n",
              "durasi          int64\n",
              "rating        float64\n",
              "rilis_date     object\n",
              "durasi_num      int64\n",
              "dtype: object"
            ],
            "text/html": [
              "<div>\n",
              "<style scoped>\n",
              "    .dataframe tbody tr th:only-of-type {\n",
              "        vertical-align: middle;\n",
              "    }\n",
              "\n",
              "    .dataframe tbody tr th {\n",
              "        vertical-align: top;\n",
              "    }\n",
              "\n",
              "    .dataframe thead th {\n",
              "        text-align: right;\n",
              "    }\n",
              "</style>\n",
              "<table border=\"1\" class=\"dataframe\">\n",
              "  <thead>\n",
              "    <tr style=\"text-align: right;\">\n",
              "      <th></th>\n",
              "      <th>0</th>\n",
              "    </tr>\n",
              "  </thead>\n",
              "  <tbody>\n",
              "    <tr>\n",
              "      <th>judul</th>\n",
              "      <td>object</td>\n",
              "    </tr>\n",
              "    <tr>\n",
              "      <th>tags</th>\n",
              "      <td>object</td>\n",
              "    </tr>\n",
              "    <tr>\n",
              "      <th>deskripsi</th>\n",
              "      <td>object</td>\n",
              "    </tr>\n",
              "    <tr>\n",
              "      <th>sutradara</th>\n",
              "      <td>object</td>\n",
              "    </tr>\n",
              "    <tr>\n",
              "      <th>bintang</th>\n",
              "      <td>object</td>\n",
              "    </tr>\n",
              "    <tr>\n",
              "      <th>negara</th>\n",
              "      <td>object</td>\n",
              "    </tr>\n",
              "    <tr>\n",
              "      <th>durasi</th>\n",
              "      <td>int64</td>\n",
              "    </tr>\n",
              "    <tr>\n",
              "      <th>rating</th>\n",
              "      <td>float64</td>\n",
              "    </tr>\n",
              "    <tr>\n",
              "      <th>rilis_date</th>\n",
              "      <td>object</td>\n",
              "    </tr>\n",
              "    <tr>\n",
              "      <th>durasi_num</th>\n",
              "      <td>int64</td>\n",
              "    </tr>\n",
              "  </tbody>\n",
              "</table>\n",
              "</div><br><label><b>dtype:</b> object</label>"
            ]
          },
          "metadata": {},
          "execution_count": 25
        }
      ]
    },
    {
      "cell_type": "code",
      "source": [
        "#mengubah kolom rilis_date menjadi tipe tanggal/waktu (datetime)\n",
        "df['rilis_date'] = pd.to_datetime(df['rilis_date'], errors='coerce')"
      ],
      "metadata": {
        "id": "ghkODe99OYxn"
      },
      "execution_count": null,
      "outputs": []
    },
    {
      "cell_type": "code",
      "source": [
        "#Menampilkan Tipe Data Kolom\n",
        "df.dtypes"
      ],
      "metadata": {
        "colab": {
          "base_uri": "https://localhost:8080/",
          "height": 397
        },
        "id": "cMuoo5ueObHh",
        "outputId": "c065ea48-d7a3-4f64-d452-cc57b6655280"
      },
      "execution_count": null,
      "outputs": [
        {
          "output_type": "execute_result",
          "data": {
            "text/plain": [
              "judul                 object\n",
              "tags                  object\n",
              "deskripsi             object\n",
              "sutradara             object\n",
              "bintang               object\n",
              "negara                object\n",
              "durasi                 int64\n",
              "rating               float64\n",
              "rilis_date    datetime64[ns]\n",
              "durasi_num             int64\n",
              "dtype: object"
            ],
            "text/html": [
              "<div>\n",
              "<style scoped>\n",
              "    .dataframe tbody tr th:only-of-type {\n",
              "        vertical-align: middle;\n",
              "    }\n",
              "\n",
              "    .dataframe tbody tr th {\n",
              "        vertical-align: top;\n",
              "    }\n",
              "\n",
              "    .dataframe thead th {\n",
              "        text-align: right;\n",
              "    }\n",
              "</style>\n",
              "<table border=\"1\" class=\"dataframe\">\n",
              "  <thead>\n",
              "    <tr style=\"text-align: right;\">\n",
              "      <th></th>\n",
              "      <th>0</th>\n",
              "    </tr>\n",
              "  </thead>\n",
              "  <tbody>\n",
              "    <tr>\n",
              "      <th>judul</th>\n",
              "      <td>object</td>\n",
              "    </tr>\n",
              "    <tr>\n",
              "      <th>tags</th>\n",
              "      <td>object</td>\n",
              "    </tr>\n",
              "    <tr>\n",
              "      <th>deskripsi</th>\n",
              "      <td>object</td>\n",
              "    </tr>\n",
              "    <tr>\n",
              "      <th>sutradara</th>\n",
              "      <td>object</td>\n",
              "    </tr>\n",
              "    <tr>\n",
              "      <th>bintang</th>\n",
              "      <td>object</td>\n",
              "    </tr>\n",
              "    <tr>\n",
              "      <th>negara</th>\n",
              "      <td>object</td>\n",
              "    </tr>\n",
              "    <tr>\n",
              "      <th>durasi</th>\n",
              "      <td>int64</td>\n",
              "    </tr>\n",
              "    <tr>\n",
              "      <th>rating</th>\n",
              "      <td>float64</td>\n",
              "    </tr>\n",
              "    <tr>\n",
              "      <th>rilis_date</th>\n",
              "      <td>datetime64[ns]</td>\n",
              "    </tr>\n",
              "    <tr>\n",
              "      <th>durasi_num</th>\n",
              "      <td>int64</td>\n",
              "    </tr>\n",
              "  </tbody>\n",
              "</table>\n",
              "</div><br><label><b>dtype:</b> object</label>"
            ]
          },
          "metadata": {},
          "execution_count": 27
        }
      ]
    },
    {
      "cell_type": "code",
      "source": [
        "#sebelumnya ada kolom durasi_num padahal ga nambahin, itu karena sebelumnya sempet ada code yg memengaruhi dan ngebuat kolom tsb\n",
        "#hapus kolom durasi_num\n",
        "df = df.drop(columns=[\"durasi_num\"])\n"
      ],
      "metadata": {
        "id": "7hYFbnT0PJ-T"
      },
      "execution_count": null,
      "outputs": []
    },
    {
      "cell_type": "code",
      "source": [
        "#Menampilkan Tipe Data Kolom lagi karena habis diubah jadi mau dicek\n",
        "df.dtypes"
      ],
      "metadata": {
        "colab": {
          "base_uri": "https://localhost:8080/",
          "height": 366
        },
        "id": "4apvsNu2PT9T",
        "outputId": "1608e4b3-60bc-48fa-da54-e7e9742e7a43"
      },
      "execution_count": null,
      "outputs": [
        {
          "output_type": "execute_result",
          "data": {
            "text/plain": [
              "judul                 object\n",
              "tags                  object\n",
              "deskripsi             object\n",
              "sutradara             object\n",
              "bintang               object\n",
              "negara                object\n",
              "durasi                 int64\n",
              "rating               float64\n",
              "rilis_date    datetime64[ns]\n",
              "dtype: object"
            ],
            "text/html": [
              "<div>\n",
              "<style scoped>\n",
              "    .dataframe tbody tr th:only-of-type {\n",
              "        vertical-align: middle;\n",
              "    }\n",
              "\n",
              "    .dataframe tbody tr th {\n",
              "        vertical-align: top;\n",
              "    }\n",
              "\n",
              "    .dataframe thead th {\n",
              "        text-align: right;\n",
              "    }\n",
              "</style>\n",
              "<table border=\"1\" class=\"dataframe\">\n",
              "  <thead>\n",
              "    <tr style=\"text-align: right;\">\n",
              "      <th></th>\n",
              "      <th>0</th>\n",
              "    </tr>\n",
              "  </thead>\n",
              "  <tbody>\n",
              "    <tr>\n",
              "      <th>judul</th>\n",
              "      <td>object</td>\n",
              "    </tr>\n",
              "    <tr>\n",
              "      <th>tags</th>\n",
              "      <td>object</td>\n",
              "    </tr>\n",
              "    <tr>\n",
              "      <th>deskripsi</th>\n",
              "      <td>object</td>\n",
              "    </tr>\n",
              "    <tr>\n",
              "      <th>sutradara</th>\n",
              "      <td>object</td>\n",
              "    </tr>\n",
              "    <tr>\n",
              "      <th>bintang</th>\n",
              "      <td>object</td>\n",
              "    </tr>\n",
              "    <tr>\n",
              "      <th>negara</th>\n",
              "      <td>object</td>\n",
              "    </tr>\n",
              "    <tr>\n",
              "      <th>durasi</th>\n",
              "      <td>int64</td>\n",
              "    </tr>\n",
              "    <tr>\n",
              "      <th>rating</th>\n",
              "      <td>float64</td>\n",
              "    </tr>\n",
              "    <tr>\n",
              "      <th>rilis_date</th>\n",
              "      <td>datetime64[ns]</td>\n",
              "    </tr>\n",
              "  </tbody>\n",
              "</table>\n",
              "</div><br><label><b>dtype:</b> object</label>"
            ]
          },
          "metadata": {},
          "execution_count": 29
        }
      ]
    },
    {
      "cell_type": "code",
      "source": [
        "#menyimpan df ke csv\n",
        "df.to_csv(\"data_bersih.csv\", index=False)"
      ],
      "metadata": {
        "id": "42lh4yQTSlRT"
      },
      "execution_count": null,
      "outputs": []
    },
    {
      "cell_type": "code",
      "source": [
        "#download file csv yg baru udah dicleaning\n",
        "from google.colab import files\n",
        "files.download(\"data_bersih.csv\")"
      ],
      "metadata": {
        "colab": {
          "base_uri": "https://localhost:8080/",
          "height": 17
        },
        "id": "AC2iQKGkSome",
        "outputId": "d1f296a7-d2d1-4921-db98-5373aed73f3b"
      },
      "execution_count": null,
      "outputs": [
        {
          "output_type": "display_data",
          "data": {
            "text/plain": [
              "<IPython.core.display.Javascript object>"
            ],
            "application/javascript": [
              "\n",
              "    async function download(id, filename, size) {\n",
              "      if (!google.colab.kernel.accessAllowed) {\n",
              "        return;\n",
              "      }\n",
              "      const div = document.createElement('div');\n",
              "      const label = document.createElement('label');\n",
              "      label.textContent = `Downloading \"${filename}\": `;\n",
              "      div.appendChild(label);\n",
              "      const progress = document.createElement('progress');\n",
              "      progress.max = size;\n",
              "      div.appendChild(progress);\n",
              "      document.body.appendChild(div);\n",
              "\n",
              "      const buffers = [];\n",
              "      let downloaded = 0;\n",
              "\n",
              "      const channel = await google.colab.kernel.comms.open(id);\n",
              "      // Send a message to notify the kernel that we're ready.\n",
              "      channel.send({})\n",
              "\n",
              "      for await (const message of channel.messages) {\n",
              "        // Send a message to notify the kernel that we're ready.\n",
              "        channel.send({})\n",
              "        if (message.buffers) {\n",
              "          for (const buffer of message.buffers) {\n",
              "            buffers.push(buffer);\n",
              "            downloaded += buffer.byteLength;\n",
              "            progress.value = downloaded;\n",
              "          }\n",
              "        }\n",
              "      }\n",
              "      const blob = new Blob(buffers, {type: 'application/binary'});\n",
              "      const a = document.createElement('a');\n",
              "      a.href = window.URL.createObjectURL(blob);\n",
              "      a.download = filename;\n",
              "      div.appendChild(a);\n",
              "      a.click();\n",
              "      div.remove();\n",
              "    }\n",
              "  "
            ]
          },
          "metadata": {}
        },
        {
          "output_type": "display_data",
          "data": {
            "text/plain": [
              "<IPython.core.display.Javascript object>"
            ],
            "application/javascript": [
              "download(\"download_57c89c06-4168-44c1-8e59-9cc8daad8473\", \"data_bersih.csv\", 26355569)"
            ]
          },
          "metadata": {}
        }
      ]
    }
  ]
}